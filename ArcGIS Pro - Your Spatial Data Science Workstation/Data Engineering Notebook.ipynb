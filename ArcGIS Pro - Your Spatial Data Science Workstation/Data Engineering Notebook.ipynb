{
 "cells": [
  {
   "cell_type": "markdown",
   "metadata": {},
   "source": [
    "Data engineering"
   ]
  },
  {
   "cell_type": "markdown",
   "metadata": {},
   "source": [
    "This notebook describes the process to download and prepare United States presidential election data. You will address missing values, reformat data types, and restructure the format of a table."
   ]
  },
  {
   "cell_type": "markdown",
   "metadata": {},
   "source": [
    "***"
   ]
  },
  {
   "cell_type": "markdown",
   "metadata": {
    "heading_collapsed": true
   },
   "source": [
    "## Load and prepare data"
   ]
  },
  {
   "cell_type": "markdown",
   "metadata": {
    "hidden": true
   },
   "source": [
    "To download and prepare the election data, you will use ArcPy, the ArcGIS API for Python, and a Pandas dataframe. First, you will import these modules to use them. Then, you will create a variable for the United States county election data and use this variable to read the data into a Pandas dataframe."
   ]
  },
  {
   "cell_type": "markdown",
   "metadata": {
    "hidden": true
   },
   "source": [
    "##### Import needed modules"
   ]
  },
  {
   "cell_type": "markdown",
   "metadata": {
    "hidden": true
   },
   "source": [
    "##### Read data into Python"
   ]
  },
  {
   "cell_type": "markdown",
   "metadata": {
    "hidden": true
   },
   "source": [
    "***"
   ]
  },
  {
   "cell_type": "markdown",
   "metadata": {
    "heading_collapsed": true
   },
   "source": [
    "## Handle missing data "
   ]
  },
  {
   "cell_type": "markdown",
   "metadata": {
    "hidden": true
   },
   "source": [
    "The election data includes a records that are missing data in the FIPS field. This missing data is referred to as null values. You will identify how many rows have null values and create a new dataframe that does not include them.\n",
    "![Null Values](img/null_values.gif \"Null Values\")"
   ]
  },
  {
   "cell_type": "code",
   "execution_count": null,
   "metadata": {
    "hidden": true,
    "scrolled": true
   },
   "outputs": [],
   "source": [
    "# Perform a query on the dataframe using the loc function and the necessary field name.\n",
    "data_df.loc[data_df['FIPS'].isnull()]  # We can use the isnull function built in to Pandas to find the records with null FIPS."
   ]
  },
  {
   "cell_type": "code",
   "execution_count": null,
   "metadata": {
    "hidden": true
   },
   "outputs": [],
   "source": [
    "# Determine how many rows are in the table\n",
    "rowcount = data_df.shape[0]\n",
    "\n",
    "# Determine how many rows have null FIPS \n",
    "null_fips_rowcount = data_df.loc[data_df['FIPS'].isnull()].shape[0]\n",
    "\n",
    "# Calculate how much of the data this represents as a percentage\n",
    "percentage_null_fips = round((null_fips_rowcount / rowcount) * 100, 2)\n",
    "\n",
    "# Use a print statement to report this information\n",
    "print(\"There were \"+str(null_fips_rowcount)+\" records with null FIPS values in the data.\\nThis amounts to \" +str(percentage_null_fips)+\"% of the available data.\")"
   ]
  },
  {
   "cell_type": "code",
   "execution_count": null,
   "metadata": {
    "hidden": true,
    "scrolled": false
   },
   "outputs": [],
   "source": [
    "# Use the notnull function and the loc function to create a new dataframe without null FIPS records\n",
    "data_df = data_df.loc[data_df['FIPS'].notnull()]"
   ]
  },
  {
   "cell_type": "markdown",
   "metadata": {
    "hidden": true
   },
   "source": [
    "***"
   ]
  },
  {
   "cell_type": "markdown",
   "metadata": {
    "heading_collapsed": true
   },
   "source": [
    "## Explore and handle data types"
   ]
  },
  {
   "cell_type": "markdown",
   "metadata": {
    "hidden": true
   },
   "source": [
    "In reviewing your data, you notice that the FIPS field is considered a numeric field instead of a string. As a result, leading zeroes in the FIPS values have been removed. The resulting FIPS values only have four characters instead of five. You will determine how many records are missing leading zeroes and add, or append, the missing zero.\n",
    "![fix_truncated_zeroes](img/trunc_zeroes.gif \"Fix Truncated Zeroes\")"
   ]
  },
  {
   "cell_type": "code",
   "execution_count": null,
   "metadata": {
    "hidden": true
   },
   "outputs": [],
   "source": [
    "# Get the first five records of the table\n",
    "data_df.head()"
   ]
  },
  {
   "cell_type": "code",
   "execution_count": null,
   "metadata": {
    "hidden": true,
    "scrolled": false
   },
   "outputs": [],
   "source": [
    "# Check how many records have a FIPS value with four characters\n",
    "trunc_df = data_df.loc[data_df['FIPS'].str.len() == 4]\n",
    "trunc_data_per = (trunc_df.shape[0] / data_df.shape[0])*100\n",
    "\n",
    "# Use another print statement (using the f format key) to report this information\n",
    "print(f\"{round(trunc_data_per, 2)}% of data ({trunc_df.shape[0]} rows) has truncated FIPS values.\")"
   ]
  },
  {
   "cell_type": "markdown",
   "metadata": {
    "hidden": true
   },
   "source": [
    "The following cell creates a function in python that adds a leading zero to the FIPS value if it only has four characters.  "
   ]
  },
  {
   "cell_type": "code",
   "execution_count": null,
   "metadata": {
    "hidden": true,
    "scrolled": false
   },
   "outputs": [],
   "source": [
    "# Define a helper function to fix truncated zeros, with one parameter: the value to be processed\n",
    "def fix_trunc_zeros(val):\n",
    "    # Use an if statement to check if there are four characters in the string representation of the value\n",
    "    if len(str(val)) == 4:\n",
    "        # If this is the case, return the value with an appended \"0\" in the front\n",
    "        return \"0\"+str(val)\n",
    "    # Otherwise...\n",
    "    else:\n",
    "        # Return the value itself\n",
    "        return str(val)"
   ]
  },
  {
   "cell_type": "code",
   "execution_count": null,
   "metadata": {
    "hidden": true,
    "scrolled": false
   },
   "outputs": [],
   "source": [
    "# Test helper function with truncated value\n",
    "fix_trunc_zeros(7042)  # You should see an appended zero: \"07042\""
   ]
  },
  {
   "cell_type": "code",
   "execution_count": null,
   "metadata": {
    "hidden": true,
    "scrolled": true
   },
   "outputs": [],
   "source": [
    "# Run helper function on the FIPS field using the apply and lambda method \n",
    "data_df['FIPS'] = data_df['FIPS'].apply(lambda x: fix_trunc_zeros(x))\n",
    "\n",
    "# Print information on the operation performed, and show the first few records to confirm it worked\n",
    "print(f\"{round(trunc_data_per, 2)}% of data ({trunc_df.shape[0]} rows) had truncated FIPS IDs corrected.\")\n",
    "data_df.head()"
   ]
  },
  {
   "cell_type": "markdown",
   "metadata": {
    "hidden": true
   },
   "source": [
    "***"
   ]
  },
  {
   "cell_type": "markdown",
   "metadata": {
    "heading_collapsed": true
   },
   "source": [
    "## Reformat the table structure"
   ]
  },
  {
   "cell_type": "markdown",
   "metadata": {
    "hidden": true
   },
   "source": [
    "Currently, each record in the table corresponds to a candidate and their votes in a county. You need to reformat the table so that each record corresponds to each county, with fields showing the votes for different candidates in that election year. \n",
    "It is possible to do this using the [Pivot Table geoprocessing tool](https://pro.arcgis.com/en/pro-app/tool-reference/data-management/pivot-table.htm) or Excel pivot tables, but Python may make it easier to automate and share.\n",
    "The animation below illustrates the steps in restructuring the table:\n",
    "1. Set a few fields aside, \"locking\" them from the table pivot. \n",
    "2. Pivot the table using the remaining fields.\n",
    "3. Rename the pivoted fields to designate each party. \n",
    "4. Bring the locked fields back to the table. \n",
    "The following code cell performs these steps.\n",
    "![reformat_table](img/reformat_table.gif \"Reformat Table\")\n"
   ]
  },
  {
   "cell_type": "code",
   "execution_count": null,
   "metadata": {
    "hidden": true,
    "scrolled": true
   },
   "outputs": [],
   "source": [
    "# Set an index using mulitple fields, which \"locks\" these fields before the table pivots\n",
    "# Use the built-in groupby function for the FIPS and year fields, which you use to group the data by candidate\n",
    "# Use unstack to perform the table pivot, which will rotate the table and turn rows into columns\n",
    "df_out = data_df.set_index(['FIPS', \n",
    "                            'year', \n",
    "                            'county', \n",
    "                            'state', \n",
    "                            'state_po', \n",
    "                            'office', \n",
    "                            data_df.groupby(['FIPS', 'year']).cumcount()+1]).unstack()\n",
    "\n",
    "# Use the indexes for the columns to set column names (Ex: candidate_1, candidate_2, votes_1, votes_2, etc.)\n",
    "df_out.columns = df_out.columns.map('{0[0]}_{0[1]}'.format)\n",
    "\n",
    "# Rename columns \n",
    "df_out = df_out.rename(columns={\"candidate_1\": \"candidate_dem\",\n",
    "                                \"candidatevotes_1\": \"votes_dem\",\n",
    "                                \"candidate_2\": \"candidate_gop\",\n",
    "                                \"candidatevotes_2\": \"votes_gop\",\n",
    "                                \"totalvotes_1\": \"votes_total\",\n",
    "                                \"state_po\": \"state_abbrev\"\n",
    "                                })\n",
    "\n",
    "# Keep only the necessary columns\n",
    "df_out = df_out[[\"candidate_dem\", \"votes_dem\",\n",
    "                 \"candidate_gop\", \"votes_gop\",\n",
    "                 \"votes_total\"]]\n",
    "\n",
    "# Remove the multiindex since we no longer need these fields to be \"locked\" for the pivot\n",
    "df_out.reset_index(inplace=True)\n",
    "\n",
    "# Print out the first few records to confirm everything worked\n",
    "df_out.head()"
   ]
  },
  {
   "cell_type": "markdown",
   "metadata": {
    "hidden": true
   },
   "source": [
    "Pandas has three powerful capabilities that helped you perform this operation: \n",
    "- The ability to set an index using multiple fields, which acts as our \"locking\" mechanism. \n",
    "- The ability to unstack (or pivot) a table.\n",
    "- The ability to perform an operation using a \"groupby\" function."
   ]
  },
  {
   "cell_type": "markdown",
   "metadata": {
    "heading_collapsed": true
   },
   "source": [
    "## Calculate additional columns"
   ]
  },
  {
   "cell_type": "markdown",
   "metadata": {
    "hidden": true
   },
   "source": [
    "You will use the values from the updated table to add additional columns of information, such as the number of votes for a non major party, the percentage of voters for each party, and so on. Each column is referred to as an attribute of the dataset."
   ]
  },
  {
   "cell_type": "markdown",
   "metadata": {
    "hidden": true
   },
   "source": [
    "##### Calculate an attribute for the total votes for non major party"
   ]
  },
  {
   "cell_type": "code",
   "execution_count": null,
   "metadata": {
    "hidden": true,
    "scrolled": true
   },
   "outputs": [],
   "source": [
    "# Calculate votes that did not choose the Democrat or Republican party\n",
    "df_out['votes_other'] = df_out['votes_total'] - (df_out['votes_dem'] + df_out['votes_gop'])\n",
    "df_out.head()"
   ]
  },
  {
   "cell_type": "markdown",
   "metadata": {
    "hidden": true
   },
   "source": [
    "##### Calculate additional attributes"
   ]
  },
  {
   "cell_type": "code",
   "execution_count": null,
   "metadata": {
    "hidden": true,
    "scrolled": false
   },
   "outputs": [],
   "source": [
    "# Calculate voter share attributes\n",
    "df_out['voter_share_major_party'] = (df_out['votes_dem'] + df_out['votes_gop']) / df_out['votes_total']\n",
    "df_out['voter_share_dem'] = df_out['votes_dem'] / df_out['votes_total']\n",
    "df_out['voter_share_gop'] = df_out['votes_gop'] / df_out['votes_total']\n",
    "df_out['voter_share_other'] = df_out['votes_other'] / df_out['votes_total']\n",
    "\n",
    "# Calculate raw difference attributes\n",
    "df_out['rawdiff_dem_vs_gop'] = df_out['votes_dem'] - df_out['votes_gop']\n",
    "df_out['rawdiff_gop_vs_dem'] = df_out['votes_gop'] - df_out['votes_dem']\n",
    "df_out['rawdiff_dem_vs_other'] = df_out['votes_dem'] - df_out['votes_other']\n",
    "df_out['rawdiff_gop_vs_other'] = df_out['votes_gop'] - df_out['votes_other']\n",
    "df_out['rawdiff_other_vs_dem'] = df_out['votes_other'] - df_out['votes_dem']\n",
    "df_out['rawdiff_other_vs_gop'] = df_out['votes_other'] - df_out['votes_gop']\n",
    "\n",
    "# Calculate percent difference attributes\n",
    "df_out['pctdiff_dem_vs_gop'] = (df_out['votes_dem'] - df_out['votes_gop']) / df_out['votes_total']\n",
    "df_out['pctdiff_gop_vs_dem'] = (df_out['votes_gop'] - df_out['votes_dem']) / df_out['votes_total']\n",
    "df_out['pctdiff_dem_vs_other'] = (df_out['votes_dem'] - df_out['votes_other']) / df_out['votes_total']\n",
    "df_out['pctdiff_gop_vs_other'] = (df_out['votes_gop'] - df_out['votes_other']) / df_out['votes_total']\n",
    "df_out['pctdiff_other_vs_dem'] = (df_out['votes_other'] - df_out['votes_dem']) / df_out['votes_total']\n",
    "df_out['pctdiff_other_vs_gop'] = (df_out['votes_other'] - df_out['votes_gop']) / df_out['votes_total']\n",
    "\n",
    "df_out.head()"
   ]
  },
  {
   "cell_type": "markdown",
   "metadata": {
    "hidden": true
   },
   "source": [
    "***"
   ]
  },
  {
   "cell_type": "markdown",
   "metadata": {
    "heading_collapsed": true
   },
   "source": [
    "## Geoenable the data"
   ]
  },
  {
   "cell_type": "markdown",
   "metadata": {
    "hidden": true
   },
   "source": [
    "You will eventually use this data in a spatial analysis. This means that the data needs to include location information to determine where the data is located on a map. You will geoenable the data, or add location to the data, using existing geoenabled county data."
   ]
  },
  {
   "cell_type": "markdown",
   "metadata": {
    "hidden": true
   },
   "source": [
    "##### Define the ArcGIS Pro project, database, and existing geoenabled data"
   ]
  },
  {
   "cell_type": "code",
   "execution_count": null,
   "metadata": {
    "hidden": true
   },
   "outputs": [],
   "source": [
    "# Create variables that represent the ArcGIS Pro project and map\n",
    "aprx = arcpy.mp.ArcGISProject(\"CURRENT\")\n",
    "mp = aprx.listMaps('Data Engineering')[0]\n",
    "\n",
    "# Create a variable that represents the default file geodatabase\n",
    "fgdb = r\"Data Engineering and Visualization.gdb\"\n",
    "aprx.defaultGeodatabase = fgdb\n",
    "arcpy.env.workspace = fgdb"
   ]
  },
  {
   "cell_type": "markdown",
   "metadata": {
    "hidden": true
   },
   "source": [
    "There are various resources that you can use to find geoenabled data. [ArcGIS Living Atlas of the World](https://livingatlas.arcgis.com) is an authoritative source provided by Esri. Each record in your election data represents information for a county, so you will use a Living Atlas dataset that represents county geometry. This dataset has been downloaded and added to your project."
   ]
  },
  {
   "cell_type": "code",
   "execution_count": null,
   "metadata": {
    "hidden": true
   },
   "outputs": [],
   "source": [
    "# Create a variable that represents the county geometry dataset\n",
    "counties_fc_name = \"Counties_2016_VotingAgePopulation\"\n",
    "counties_fc = os.path.join(fgdb, counties_fc_name)"
   ]
  },
  {
   "cell_type": "markdown",
   "metadata": {
    "hidden": true
   },
   "source": [
    "**Note: Executing the following cell may take a few minutes.**"
   ]
  },
  {
   "cell_type": "code",
   "execution_count": null,
   "metadata": {
    "hidden": true
   },
   "outputs": [],
   "source": [
    "# Load the dataset into a spatially-enabled dataframe\n",
    "counties_df = pd.DataFrame.spatial.from_featureclass(counties_fc)\n",
    "counties_df.head()"
   ]
  },
  {
   "cell_type": "markdown",
   "metadata": {
    "hidden": true
   },
   "source": [
    "The county geometry dataset includes various attributes. You will simplify the dataframe to only include the attributes that you need. The Total_cvap_est attribute represents the total population in each county that are of voting age for the year 2016."
   ]
  },
  {
   "cell_type": "code",
   "execution_count": null,
   "metadata": {
    "hidden": true,
    "scrolled": false
   },
   "outputs": [],
   "source": [
    "# Modify the dataframe to only include the attributes that are needed\n",
    "counties_df = counties_df[['OBJECTID', 'GEOID', 'GEONAME',\n",
    "                           'Total_cvap_est',\n",
    "                           'SHAPE', 'Shape__Area', 'Shape__Length']]\n",
    "counties_df.head()"
   ]
  },
  {
   "cell_type": "markdown",
   "metadata": {
    "hidden": true
   },
   "source": [
    "***"
   ]
  },
  {
   "cell_type": "markdown",
   "metadata": {
    "heading_collapsed": true
   },
   "source": [
    "## Join the data"
   ]
  },
  {
   "cell_type": "markdown",
   "metadata": {
    "hidden": true
   },
   "source": [
    "You have a dataframe with election data ('df_out') and a spatially-enabled dataframe of the county geometry data ('counties_df'). You will merge these datasets into one. "
   ]
  },
  {
   "cell_type": "code",
   "execution_count": null,
   "metadata": {
    "hidden": true,
    "scrolled": true
   },
   "outputs": [],
   "source": [
    "# Join the election dataframe with the county geometry dataframe\n",
    "geo_df = pd.merge(df_out, counties_df, left_on='FIPS', right_on=\"GEOID\", how='left')\n",
    "\n",
    "# Visualize the merged data\n",
    "geo_df.head()"
   ]
  },
  {
   "cell_type": "markdown",
   "metadata": {
    "hidden": true
   },
   "source": [
    "The resulting dataframe includes the attributes from your election data and the specified attributes from the county geometry data. The SHAPE field represents the county geometry and is used to locate each record, or feature, on the map."
   ]
  },
  {
   "cell_type": "markdown",
   "metadata": {
    "hidden": true
   },
   "source": [
    "***"
   ]
  },
  {
   "cell_type": "markdown",
   "metadata": {
    "heading_collapsed": true
   },
   "source": [
    "## Query and calculate attributes"
   ]
  },
  {
   "cell_type": "markdown",
   "metadata": {
    "hidden": true
   },
   "source": [
    "Because you have the voting age population for 2016, you can now calculate the average voter participation (voter turnout) for 2016. The dataframe includes records from 2010-2016 but only has voting age population for 2016. You will need to create a subset dataframe for 2016 before calculating the voter turnout."
   ]
  },
  {
   "cell_type": "code",
   "execution_count": null,
   "metadata": {
    "hidden": true
   },
   "outputs": [],
   "source": [
    "# Create a copy of the data, and perform a query\n",
    "data_2016_df = geo_df.copy()\n",
    "data_2016_df.query(\"year == '2016'\", inplace=True)\n",
    "data_2016_df.head()"
   ]
  },
  {
   "cell_type": "markdown",
   "metadata": {
    "hidden": true
   },
   "source": [
    "You will calculate a new field named voter turnout using field operators in Pandas. The operations will apply to all values across the columns. "
   ]
  },
  {
   "cell_type": "code",
   "execution_count": null,
   "metadata": {
    "hidden": true,
    "scrolled": true
   },
   "outputs": [],
   "source": [
    "# Calculate voter turnout attributes\n",
    "data_2016_df['voter_turnout'] = data_2016_df['votes_total'] / data_2016_df['Total_cvap_est']\n",
    "data_2016_df['voter_turnout_majparty'] = (data_2016_df['votes_dem']+data_2016_df['votes_gop']) / data_2016_df['Total_cvap_est']\n",
    "data_2016_df['voter_turnout_dem'] = data_2016_df['votes_dem'] / data_2016_df['Total_cvap_est']\n",
    "data_2016_df['voter_turnout_gop'] = data_2016_df['votes_gop'] / data_2016_df['Total_cvap_est']\n",
    "data_2016_df['voter_turnout_other'] = data_2016_df['votes_other'] / data_2016_df['Total_cvap_est']\n",
    "data_2016_df.head()"
   ]
  },
  {
   "cell_type": "markdown",
   "metadata": {
    "hidden": true
   },
   "source": [
    "***"
   ]
  },
  {
   "cell_type": "markdown",
   "metadata": {
    "heading_collapsed": true
   },
   "source": [
    "## Validate the data"
   ]
  },
  {
   "cell_type": "markdown",
   "metadata": {
    "hidden": true
   },
   "source": [
    "Before continuing with other data preparation, you should confirm that the output data has been successfully created. \n",
    "\n",
    "First, you will validate the values for voter turnout. You will remove null values, and because these values represent a fraction (total votes divided by voting age population), you will confirm that the values range between 0 and 1."
   ]
  },
  {
   "cell_type": "code",
   "execution_count": null,
   "metadata": {
    "hidden": true,
    "scrolled": true
   },
   "outputs": [],
   "source": [
    "# Check for null values\n",
    "data_2016_df.loc[data_2016_df['voter_turnout'].isnull()]"
   ]
  },
  {
   "cell_type": "code",
   "execution_count": null,
   "metadata": {
    "hidden": true
   },
   "outputs": [],
   "source": [
    "# Remove records with no voter turnout value\n",
    "data_2016_df = data_2016_df.loc[data_2016_df['voter_turnout'].notnull()]"
   ]
  },
  {
   "cell_type": "code",
   "execution_count": null,
   "metadata": {
    "hidden": true
   },
   "outputs": [],
   "source": [
    "# Run a describe to get the distribution of voter turnout values\n",
    "data_2016_df['voter_turnout'].describe()"
   ]
  },
  {
   "cell_type": "markdown",
   "metadata": {
    "hidden": true
   },
   "source": [
    "The describe function indicates that there are voter turnout values over one, indicating a voter turnout above 100%. You will further investigate by querying for these records."
   ]
  },
  {
   "cell_type": "code",
   "execution_count": null,
   "metadata": {
    "hidden": true,
    "scrolled": true
   },
   "outputs": [],
   "source": [
    "# Perform query for voter turnout above 100%\n",
    "data_2016_df.loc[data_2016_df['voter_turnout'] > 1]"
   ]
  },
  {
   "cell_type": "markdown",
   "metadata": {
    "hidden": true
   },
   "source": [
    "There are four counties with very low population that resulted in voter turnout values above 100%. You could remove these records from the data or do additional research to identify the source of this issue. "
   ]
  },
  {
   "cell_type": "markdown",
   "metadata": {
    "hidden": true
   },
   "source": [
    "***"
   ]
  },
  {
   "cell_type": "markdown",
   "metadata": {
    "heading_collapsed": true
   },
   "source": [
    "## Update validated data"
   ]
  },
  {
   "cell_type": "markdown",
   "metadata": {
    "hidden": true
   },
   "source": [
    "After reviewing the Census Bureau voting age population data for 2016, you determined that these counties have a low voting age population with a fairly high margin of error. This may be the reason why these counties have a voter turnout rate higher than 100%. You will recalculate the voter turnout field for these counties using the upper range of their margin of error: \n",
    "- San Juan County, Colorado: 574\n",
    "- Harding County, New Mexico: 562\n",
    "- Loving County, Texas: 86\n",
    "- McMullen County, Texas: 566\n",
    "\n",
    "**Note: This information was extracted from this [table](https://data.census.gov/cedsci/table?q=voting%20age%20population%202016&g=0500000US08111,35021,48301,48311&hidePreview=true&table=DP05&tid=ACSDP5Y2016.DP05&t=Age%20and%20Sex&y=2016&lastDisplayedRow=6&vintage=2016&mode=&moe=true).**"
   ]
  },
  {
   "cell_type": "code",
   "execution_count": null,
   "metadata": {
    "hidden": true
   },
   "outputs": [],
   "source": [
    "# Correct each county\n",
    "data_2016_df.loc[data_2016_df['FIPS'] == \"08111\", \"Total_cvap_est\"] = 574\n",
    "data_2016_df.loc[data_2016_df['FIPS'] == \"35021\", \"Total_cvap_est\"] = 562\n",
    "data_2016_df.loc[data_2016_df['FIPS'] == \"48301\", \"Total_cvap_est\"] = 86\n",
    "data_2016_df.loc[data_2016_df['FIPS'] == \"48311\", \"Total_cvap_est\"] = 566"
   ]
  },
  {
   "cell_type": "code",
   "execution_count": null,
   "metadata": {
    "hidden": true
   },
   "outputs": [],
   "source": [
    "# Recalculate voter turnout fields\n",
    "data_2016_df['voter_turnout'] = data_2016_df['votes_total'] / data_2016_df['Total_cvap_est']\n",
    "data_2016_df['voter_turnout_majparty'] = (data_2016_df['votes_dem']+data_2016_df['votes_gop']) / data_2016_df['Total_cvap_est']\n",
    "data_2016_df['voter_turnout_dem'] = data_2016_df['votes_dem'] / data_2016_df['Total_cvap_est']\n",
    "data_2016_df['voter_turnout_gop'] = data_2016_df['votes_gop'] / data_2016_df['Total_cvap_est']\n",
    "data_2016_df['voter_turnout_other'] = data_2016_df['votes_other'] / data_2016_df['Total_cvap_est']"
   ]
  },
  {
   "cell_type": "markdown",
   "metadata": {
    "hidden": true
   },
   "source": [
    "To confirm that this correction addressed the issue, you will again query for counties with a voter turnout value above 100%."
   ]
  },
  {
   "cell_type": "code",
   "execution_count": null,
   "metadata": {
    "hidden": true,
    "scrolled": true
   },
   "outputs": [],
   "source": [
    "data_2016_df.loc[data_2016_df['voter_turnout'] > 1]"
   ]
  },
  {
   "cell_type": "markdown",
   "metadata": {
    "hidden": true
   },
   "source": [
    "No records are returned, indicating that there are no counties with a turnout value above 100%. Well done! You have cleaned the data. Next, you will convert the dataframe to a permanent dataset called a feature class. Feature classes are stored in an ArcGIS Pro file geodatabase."
   ]
  },
  {
   "cell_type": "markdown",
   "metadata": {
    "hidden": true
   },
   "source": [
    "***"
   ]
  },
  {
   "cell_type": "markdown",
   "metadata": {
    "heading_collapsed": true
   },
   "source": [
    "## Convert dataframes to feature classes"
   ]
  },
  {
   "cell_type": "markdown",
   "metadata": {
    "hidden": true
   },
   "source": [
    "You will use the ArcGIS API for Python, imported at the beginning of this script, to export the spatially-enabled dataframe to a feature class.\n",
    "\n",
    "**Note: Executing the following cell may take a few minutes**"
   ]
  },
  {
   "cell_type": "code",
   "execution_count": null,
   "metadata": {
    "hidden": true,
    "scrolled": false
   },
   "outputs": [],
   "source": [
    "# Create a feature class for the 2016 presidential election \n",
    "out_2016_fc_name = \"county_elections_pres_2016\"\n",
    "out_2016_fc = data_2016_df.spatial.to_featureclass(os.path.join(fgdb, out_2016_fc_name))\n",
    "out_2016_fc"
   ]
  },
  {
   "cell_type": "markdown",
   "metadata": {
    "hidden": true
   },
   "source": [
    "1. At the top of the page, click the Data Engineering map tab.\n",
    "\n",
    "2. Drag the Data Engineering map tab to display as its own window. \n",
    "\n",
    "3. Review the feature class that was added to the Data Engineering map.\n",
    "\n",
    "![DataFrameToFeatureClass](img/DataFrameToFeatureClass.PNG \"Map of counties, with missing county\")\n",
    "\n",
    "**Note: The color of the data will vary every time it is added to the map.** \n"
   ]
  },
  {
   "cell_type": "markdown",
   "metadata": {
    "hidden": true
   },
   "source": [
    "***"
   ]
  },
  {
   "cell_type": "markdown",
   "metadata": {},
   "source": [
    "## Correct for missing data"
   ]
  },
  {
   "cell_type": "markdown",
   "metadata": {},
   "source": [
    "The feature class is missing a county in South Dakota. You will correct this issue by further exploring the data."
   ]
  },
  {
   "cell_type": "markdown",
   "metadata": {},
   "source": [
    "1. In Catalog pane, expand Databases, and then Data Engineering and Visualization.gdb.\n",
    "2. Right-click Counties_2016_VotingAgePopulation and choose Add To Current Map.\n",
    "3. In the Contents pane, drag Counties_2016_VotingAgePopulation under county_elections_pres_2016.\n",
    "4. Open the Data Engineering tab.\n",
    "5. On the map, click the missing county.\n",
    "\n",
    "![missing county](img/missing_county_view.PNG \"Pop-up window for Oglala Lakota County\")\n",
    "\n",
    "The county geometry dataset identifies the missing county as Oglala Lakota County. By searching online for this county, you determine that Oglala Lakota County changed its county name and FIPS in 2015. It was originally Shannon County with a FIPS of 46113 and is now Oglala Lakota County with a FIPS of 46102. You will search the election data for the current FIPS to try to find the missing data."
   ]
  },
  {
   "cell_type": "code",
   "execution_count": null,
   "metadata": {},
   "outputs": [],
   "source": [
    "# Perform query for county FIPS 46102\n",
    "df_out.loc[df_out['FIPS'] == '46102']"
   ]
  },
  {
   "cell_type": "markdown",
   "metadata": {},
   "source": [
    "There are no records returned, which indicates that the election data does not have the correct FIPS for this county. You will check for the old FIPS value, when it was named Shannon County."
   ]
  },
  {
   "cell_type": "code",
   "execution_count": null,
   "metadata": {},
   "outputs": [],
   "source": [
    "df_out.loc[df_out['FIPS'] == '46113']"
   ]
  },
  {
   "cell_type": "markdown",
   "metadata": {},
   "source": [
    "There is the issue! The data has the correct name (Oglala Lakota) but the wrong FIPS (46113). You will correct this data issue."
   ]
  },
  {
   "cell_type": "code",
   "execution_count": null,
   "metadata": {},
   "outputs": [],
   "source": [
    "df_out.loc[df_out['FIPS'] == '46113', 'FIPS'] = \"46102\"\n",
    "df_out.loc[df_out['FIPS'] == '46102']"
   ]
  },
  {
   "cell_type": "markdown",
   "metadata": {},
   "source": [
    "With the corrected FIPS value for Oglala Lakota County, you can now rejoin the geometry, recalculate the voting turnout field, and recreate the feature class. "
   ]
  },
  {
   "cell_type": "markdown",
   "metadata": {},
   "source": [
    "**Note: Executing the following cell may take a few minutes.**"
   ]
  },
  {
   "cell_type": "code",
   "execution_count": null,
   "metadata": {
    "scrolled": true
   },
   "outputs": [],
   "source": [
    "# Join the county geometry data to the updated election data table\n",
    "geo_df = pd.merge(df_out, counties_df, left_on='FIPS', right_on=\"GEOID\", how='left')\n",
    "\n",
    "# Create a copy of the data that only includes records from 2016\n",
    "data_2016_df = geo_df.copy()\n",
    "data_2016_df.query(\"year == '2016'\", inplace=True)\n",
    "data_2016_df.head()\n",
    "\n",
    "# Correct counties with low population\n",
    "data_2016_df.loc[data_2016_df['FIPS'] == \"08111\", \"Total_cvap_est\"] = 574\n",
    "data_2016_df.loc[data_2016_df['FIPS'] == \"35021\", \"Total_cvap_est\"] = 562\n",
    "data_2016_df.loc[data_2016_df['FIPS'] == \"48301\", \"Total_cvap_est\"] = 86\n",
    "data_2016_df.loc[data_2016_df['FIPS'] == \"48311\", \"Total_cvap_est\"] = 566\n",
    "\n",
    "# Calculate voter turnout\n",
    "data_2016_df['voter_turnout'] = data_2016_df['votes_total'] / data_2016_df['Total_cvap_est']\n",
    "data_2016_df['voter_turnout_majparty'] = (data_2016_df['votes_dem']+data_2016_df['votes_gop']) / data_2016_df['Total_cvap_est']\n",
    "data_2016_df['voter_turnout_dem'] = data_2016_df['votes_dem'] / data_2016_df['Total_cvap_est']\n",
    "data_2016_df['voter_turnout_gop'] = data_2016_df['votes_gop'] / data_2016_df['Total_cvap_est']\n",
    "data_2016_df['voter_turnout_other'] = data_2016_df['votes_other'] / data_2016_df['Total_cvap_est']\n",
    "\n",
    "# Remove records with no voter turnout value\n",
    "data_2016_df = data_2016_df.loc[data_2016_df['voter_turnout'].notnull()]"
   ]
  },
  {
   "cell_type": "markdown",
   "metadata": {},
   "source": [
    "You will export the dataframe to a feature class that you can visualize and analyze in ArcGIS Pro. "
   ]
  },
  {
   "cell_type": "markdown",
   "metadata": {},
   "source": [
    "**Note: Executing the following cell may take a few minutes.**"
   ]
  },
  {
   "cell_type": "code",
   "execution_count": null,
   "metadata": {},
   "outputs": [],
   "source": [
    "# Create a feature class for the 2016 election and voter turnout data\n",
    "out_2016_fc_name = \"county_elections_pres_2016_final\"\n",
    "out_2016_fc = data_2016_df.spatial.to_featureclass(os.path.join(fgdb, out_2016_fc_name))"
   ]
  },
  {
   "cell_type": "markdown",
   "metadata": {},
   "source": [
    "You have prepared this data for a predictive analysis that will model voter turnout using demographic variables, such as per capita income. In the next step, you will use ArcGIS Pro to geoenrich your feature class with these demographic variables. \n",
    "\n",
    "Open the Perform data engineering tasks exercise PDF and refer to the Open the Enrich tool step for the remaining instructions."
   ]
  },
  {
   "cell_type": "markdown",
   "metadata": {},
   "source": [
    "***"
   ]
  }
 ],
 "metadata": {
  "kernelspec": {
   "display_name": "ArcGISPro",
   "language": "Python",
   "name": "python3"
  },
  "language_info": {
   "file_extension": ".py",
   "name": "python",
   "version": "3"
  }
 },
 "nbformat": 4,
 "nbformat_minor": 2
}
